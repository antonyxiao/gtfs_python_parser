{
 "cells": [
  {
   "metadata": {
    "trusted": false
   },
   "cell_type": "code",
   "source": "from pyraptor.gtfs import timetable\n\ntimetable.main('gtfs_static/bctransit/victoria/','pyraptor_out','20240702',['BCTransit'])",
   "execution_count": 1,
   "outputs": [
    {
     "output_type": "stream",
     "text": "\u001b[32m2024-07-02 11:39:35.134\u001b[0m | \u001b[1mINFO    \u001b[0m | \u001b[36mpyraptor.gtfs.timetable\u001b[0m:\u001b[36mmain\u001b[0m:\u001b[36m74\u001b[0m - \u001b[1mParse timetable from GTFS files\u001b[0m\n\u001b[32m2024-07-02 11:39:35.135\u001b[0m | \u001b[1mINFO    \u001b[0m | \u001b[36mpyraptor.gtfs.timetable\u001b[0m:\u001b[36mread_gtfs_timetable\u001b[0m:\u001b[36m87\u001b[0m - \u001b[1mRead GTFS data\u001b[0m\n\u001b[32m2024-07-02 11:39:35.136\u001b[0m | \u001b[34m\u001b[1mDEBUG   \u001b[0m | \u001b[36mpyraptor.gtfs.timetable\u001b[0m:\u001b[36mread_gtfs_timetable\u001b[0m:\u001b[36m90\u001b[0m - \u001b[34m\u001b[1mRead Agencies\u001b[0m\n\u001b[32m2024-07-02 11:39:35.148\u001b[0m | \u001b[34m\u001b[1mDEBUG   \u001b[0m | \u001b[36mpyraptor.gtfs.timetable\u001b[0m:\u001b[36mread_gtfs_timetable\u001b[0m:\u001b[36m99\u001b[0m - \u001b[34m\u001b[1mRead Routes\u001b[0m\n\u001b[32m2024-07-02 11:39:35.154\u001b[0m | \u001b[34m\u001b[1mDEBUG   \u001b[0m | \u001b[36mpyraptor.gtfs.timetable\u001b[0m:\u001b[36mread_gtfs_timetable\u001b[0m:\u001b[36m107\u001b[0m - \u001b[34m\u001b[1mRead Trips\u001b[0m\n\u001b[32m2024-07-02 11:39:35.183\u001b[0m | \u001b[34m\u001b[1mDEBUG   \u001b[0m | \u001b[36mpyraptor.gtfs.timetable\u001b[0m:\u001b[36mread_gtfs_timetable\u001b[0m:\u001b[36m124\u001b[0m - \u001b[34m\u001b[1mRead Calendar\u001b[0m\n\u001b[32m2024-07-02 11:39:35.222\u001b[0m | \u001b[34m\u001b[1mDEBUG   \u001b[0m | \u001b[36mpyraptor.gtfs.timetable\u001b[0m:\u001b[36mread_gtfs_timetable\u001b[0m:\u001b[36m136\u001b[0m - \u001b[34m\u001b[1mRead Stop Times\u001b[0m\n\u001b[32m2024-07-02 11:39:36.160\u001b[0m | \u001b[34m\u001b[1mDEBUG   \u001b[0m | \u001b[36mpyraptor.gtfs.timetable\u001b[0m:\u001b[36mread_gtfs_timetable\u001b[0m:\u001b[36m156\u001b[0m - \u001b[34m\u001b[1mRead Stops\u001b[0m\n\u001b[32m2024-07-02 11:39:36.173\u001b[0m | \u001b[1mINFO    \u001b[0m | \u001b[36mpyraptor.gtfs.timetable\u001b[0m:\u001b[36mgtfs_to_pyraptor_timetable\u001b[0m:\u001b[36m198\u001b[0m - \u001b[1mConvert GTFS timetable to timetable for PyRaptor algorithm\u001b[0m\n\u001b[32m2024-07-02 11:39:36.174\u001b[0m | \u001b[34m\u001b[1mDEBUG   \u001b[0m | \u001b[36mpyraptor.gtfs.timetable\u001b[0m:\u001b[36mgtfs_to_pyraptor_timetable\u001b[0m:\u001b[36m201\u001b[0m - \u001b[34m\u001b[1mAdd stations and stops\u001b[0m\n\u001b[32m2024-07-02 11:39:36.373\u001b[0m | \u001b[34m\u001b[1mDEBUG   \u001b[0m | \u001b[36mpyraptor.gtfs.timetable\u001b[0m:\u001b[36mgtfs_to_pyraptor_timetable\u001b[0m:\u001b[36m224\u001b[0m - \u001b[34m\u001b[1mAdd trips and trip stop times\u001b[0m\n\u001b[32m2024-07-02 11:40:16.307\u001b[0m | \u001b[34m\u001b[1mDEBUG   \u001b[0m | \u001b[36mpyraptor.gtfs.timetable\u001b[0m:\u001b[36mgtfs_to_pyraptor_timetable\u001b[0m:\u001b[36m259\u001b[0m - \u001b[34m\u001b[1mAdd routes\u001b[0m\n\u001b[32m2024-07-02 11:40:16.367\u001b[0m | \u001b[34m\u001b[1mDEBUG   \u001b[0m | \u001b[36mpyraptor.gtfs.timetable\u001b[0m:\u001b[36mgtfs_to_pyraptor_timetable\u001b[0m:\u001b[36m266\u001b[0m - \u001b[34m\u001b[1mAdd transfers\u001b[0m\n\u001b[32m2024-07-02 11:40:16.372\u001b[0m | \u001b[34m\u001b[1mDEBUG   \u001b[0m | \u001b[36mpyraptor.model.structures\u001b[0m:\u001b[36mcounts\u001b[0m:\u001b[36m36\u001b[0m - \u001b[34m\u001b[1mCounts:\u001b[0m\n\u001b[32m2024-07-02 11:40:16.373\u001b[0m | \u001b[34m\u001b[1mDEBUG   \u001b[0m | \u001b[36mpyraptor.model.structures\u001b[0m:\u001b[36mcounts\u001b[0m:\u001b[36m37\u001b[0m - \u001b[34m\u001b[1mStations   : 1642\u001b[0m\n\u001b[32m2024-07-02 11:40:16.374\u001b[0m | \u001b[34m\u001b[1mDEBUG   \u001b[0m | \u001b[36mpyraptor.model.structures\u001b[0m:\u001b[36mcounts\u001b[0m:\u001b[36m38\u001b[0m - \u001b[34m\u001b[1mRoutes     : 198\u001b[0m\n\u001b[32m2024-07-02 11:40:16.376\u001b[0m | \u001b[34m\u001b[1mDEBUG   \u001b[0m | \u001b[36mpyraptor.model.structures\u001b[0m:\u001b[36mcounts\u001b[0m:\u001b[36m39\u001b[0m - \u001b[34m\u001b[1mTrips      : 2870\u001b[0m\n\u001b[32m2024-07-02 11:40:16.379\u001b[0m | \u001b[34m\u001b[1mDEBUG   \u001b[0m | \u001b[36mpyraptor.model.structures\u001b[0m:\u001b[36mcounts\u001b[0m:\u001b[36m40\u001b[0m - \u001b[34m\u001b[1mStops      : 2353\u001b[0m\n\u001b[32m2024-07-02 11:40:16.381\u001b[0m | \u001b[34m\u001b[1mDEBUG   \u001b[0m | \u001b[36mpyraptor.model.structures\u001b[0m:\u001b[36mcounts\u001b[0m:\u001b[36m41\u001b[0m - \u001b[34m\u001b[1mStop Times : 114989\u001b[0m\n\u001b[32m2024-07-02 11:40:16.383\u001b[0m | \u001b[34m\u001b[1mDEBUG   \u001b[0m | \u001b[36mpyraptor.model.structures\u001b[0m:\u001b[36mcounts\u001b[0m:\u001b[36m42\u001b[0m - \u001b[34m\u001b[1mTransfers  : 1436\u001b[0m\n\u001b[32m2024-07-02 11:40:16.391\u001b[0m | \u001b[1mINFO    \u001b[0m | \u001b[36mpyraptor.dao.timetable\u001b[0m:\u001b[36mwrite_timetable\u001b[0m:\u001b[36m44\u001b[0m - \u001b[1mWrite PyRaptor timetable to output directory\u001b[0m\n",
     "name": "stderr"
    }
   ]
  },
  {
   "metadata": {
    "trusted": true
   },
   "cell_type": "code",
   "source": "from pyraptor import query_range_raptor\nfrom pyraptor import query_range_mcraptor\nfrom pyraptor.util import str2sec, sec2str\nfrom pyraptor.dao.timetable import read_timetable\n\n#query_range_raptor.main('pyraptor_out','UVic Exch Bay H','Douglas St at Discovery St', '08:00:00','09:00:00', 1)\n\nstart_station = 'Telegraph Bay Rd at Arbutus Rd'\ndestination_station = 'North Dairy Rd at Keats St'\n\n#journeys_to_destinations = query_range_raptor.run_range_raptor(read_timetable('pyraptor_out'),start_station, str2sec('11:12:00'), str2sec('11:50:00'), 3)\n\njourneys_to_destinations = query_range_mcraptor.run_range_mcraptor(read_timetable('pyraptor_out'),start_station, str2sec('09:00:00'), str2sec('09:30:00'), 3)\n\n#for jrny in journeys_to_destinations[destination_station][::-1]:",
   "execution_count": 14,
   "outputs": [
    {
     "output_type": "stream",
     "text": "\u001b[32m2024-07-02 12:19:21.346\u001b[0m | \u001b[34m\u001b[1mDEBUG   \u001b[0m | \u001b[36mpyraptor.dao.timetable\u001b[0m:\u001b[36mread_timetable\u001b[0m:\u001b[36m28\u001b[0m - \u001b[34m\u001b[1mUsing cached datastructures\u001b[0m\n\u001b[32m2024-07-02 12:19:21.355\u001b[0m | \u001b[34m\u001b[1mDEBUG   \u001b[0m | \u001b[36mpyraptor.dao.timetable\u001b[0m:\u001b[36mload_joblib\u001b[0m:\u001b[36m18\u001b[0m - \u001b[34m\u001b[1mLoading 'timetable'\u001b[0m\n\u001b[32m2024-07-02 12:19:24.969\u001b[0m | \u001b[1mINFO    \u001b[0m | \u001b[36mpyraptor.query_range_mcraptor\u001b[0m:\u001b[36mrun_range_mcraptor\u001b[0m:\u001b[36m136\u001b[0m - \u001b[1mPotential departure times : ['09:14']\u001b[0m\n\u001b[32m2024-07-02 12:19:24.970\u001b[0m | \u001b[1mINFO    \u001b[0m | \u001b[36mpyraptor.query_range_mcraptor\u001b[0m:\u001b[36mrun_range_mcraptor\u001b[0m:\u001b[36m146\u001b[0m - \u001b[1mCalculating journeys to all destinations\u001b[0m\n\u001b[32m2024-07-02 12:19:24.971\u001b[0m | \u001b[1mINFO    \u001b[0m | \u001b[36mpyraptor.query_range_mcraptor\u001b[0m:\u001b[36mrun_range_mcraptor\u001b[0m:\u001b[36m151\u001b[0m - \u001b[1mProcessing 0 / 1\u001b[0m\n\u001b[32m2024-07-02 12:19:24.972\u001b[0m | \u001b[1mINFO    \u001b[0m | \u001b[36mpyraptor.query_range_mcraptor\u001b[0m:\u001b[36mrun_range_mcraptor\u001b[0m:\u001b[36m152\u001b[0m - \u001b[1mAnalyzing best journey for departure time 09:14\u001b[0m\n\u001b[32m2024-07-02 12:19:24.984\u001b[0m | \u001b[34m\u001b[1mDEBUG   \u001b[0m | \u001b[36mpyraptor.model.mcraptor\u001b[0m:\u001b[36mrun\u001b[0m:\u001b[36m40\u001b[0m - \u001b[34m\u001b[1mStarting from Stop IDs: [Stop(Telegraph Bay Rd at Arbutus Rd [101239])]\u001b[0m\n\u001b[32m2024-07-02 12:19:24.985\u001b[0m | \u001b[1mINFO    \u001b[0m | \u001b[36mpyraptor.model.mcraptor\u001b[0m:\u001b[36mrun\u001b[0m:\u001b[36m55\u001b[0m - \u001b[1mAnalyzing possibilities round 1\u001b[0m\n\u001b[32m2024-07-02 12:19:24.986\u001b[0m | \u001b[34m\u001b[1mDEBUG   \u001b[0m | \u001b[36mpyraptor.model.mcraptor\u001b[0m:\u001b[36mrun\u001b[0m:\u001b[36m56\u001b[0m - \u001b[34m\u001b[1mStops to evaluate count: 1\u001b[0m\n\u001b[32m2024-07-02 12:19:24.989\u001b[0m | \u001b[34m\u001b[1mDEBUG   \u001b[0m | \u001b[36mpyraptor.model.mcraptor\u001b[0m:\u001b[36maccumulate_routes\u001b[0m:\u001b[36m101\u001b[0m - \u001b[34m\u001b[1mFound 2 routes serving marked stops\u001b[0m\n\u001b[32m2024-07-02 12:19:24.991\u001b[0m | \u001b[34m\u001b[1mDEBUG   \u001b[0m | \u001b[36mpyraptor.model.mcraptor\u001b[0m:\u001b[36mtraverse_route\u001b[0m:\u001b[36m177\u001b[0m - \u001b[34m\u001b[1m8 reachable stops added\u001b[0m\n\u001b[32m2024-07-02 12:19:24.994\u001b[0m | \u001b[34m\u001b[1mDEBUG   \u001b[0m | \u001b[36mpyraptor.model.mcraptor\u001b[0m:\u001b[36madd_transfer_time\u001b[0m:\u001b[36m222\u001b[0m - \u001b[34m\u001b[1m5 transferable stops added\u001b[0m\n\u001b[32m2024-07-02 12:19:24.996\u001b[0m | \u001b[1mINFO    \u001b[0m | \u001b[36mpyraptor.model.mcraptor\u001b[0m:\u001b[36mrun\u001b[0m:\u001b[36m55\u001b[0m - \u001b[1mAnalyzing possibilities round 2\u001b[0m\n\u001b[32m2024-07-02 12:19:24.998\u001b[0m | \u001b[34m\u001b[1mDEBUG   \u001b[0m | \u001b[36mpyraptor.model.mcraptor\u001b[0m:\u001b[36mrun\u001b[0m:\u001b[36m56\u001b[0m - \u001b[34m\u001b[1mStops to evaluate count: 13\u001b[0m\n\u001b[32m2024-07-02 12:19:25.000\u001b[0m | \u001b[34m\u001b[1mDEBUG   \u001b[0m | \u001b[36mpyraptor.model.mcraptor\u001b[0m:\u001b[36maccumulate_routes\u001b[0m:\u001b[36m101\u001b[0m - \u001b[34m\u001b[1mFound 9 routes serving marked stops\u001b[0m\n\u001b[32m2024-07-02 12:19:25.011\u001b[0m | \u001b[34m\u001b[1mDEBUG   \u001b[0m | \u001b[36mpyraptor.model.mcraptor\u001b[0m:\u001b[36mtraverse_route\u001b[0m:\u001b[36m177\u001b[0m - \u001b[34m\u001b[1m88 reachable stops added\u001b[0m\n\u001b[32m2024-07-02 12:19:25.014\u001b[0m | \u001b[34m\u001b[1mDEBUG   \u001b[0m | \u001b[36mpyraptor.model.mcraptor\u001b[0m:\u001b[36madd_transfer_time\u001b[0m:\u001b[36m222\u001b[0m - \u001b[34m\u001b[1m41 transferable stops added\u001b[0m\n\u001b[32m2024-07-02 12:19:25.016\u001b[0m | \u001b[1mINFO    \u001b[0m | \u001b[36mpyraptor.model.mcraptor\u001b[0m:\u001b[36mrun\u001b[0m:\u001b[36m55\u001b[0m - \u001b[1mAnalyzing possibilities round 3\u001b[0m\n\u001b[32m2024-07-02 12:19:25.018\u001b[0m | \u001b[34m\u001b[1mDEBUG   \u001b[0m | \u001b[36mpyraptor.model.mcraptor\u001b[0m:\u001b[36mrun\u001b[0m:\u001b[36m56\u001b[0m - \u001b[34m\u001b[1mStops to evaluate count: 129\u001b[0m\n\u001b[32m2024-07-02 12:19:25.020\u001b[0m | \u001b[34m\u001b[1mDEBUG   \u001b[0m | \u001b[36mpyraptor.model.mcraptor\u001b[0m:\u001b[36maccumulate_routes\u001b[0m:\u001b[36m101\u001b[0m - \u001b[34m\u001b[1mFound 104 routes serving marked stops\u001b[0m\n\u001b[32m2024-07-02 12:19:25.197\u001b[0m | \u001b[34m\u001b[1mDEBUG   \u001b[0m | \u001b[36mpyraptor.model.mcraptor\u001b[0m:\u001b[36mtraverse_route\u001b[0m:\u001b[36m177\u001b[0m - \u001b[34m\u001b[1m938 reachable stops added\u001b[0m\n\u001b[32m2024-07-02 12:19:25.219\u001b[0m | \u001b[34m\u001b[1mDEBUG   \u001b[0m | \u001b[36mpyraptor.model.mcraptor\u001b[0m:\u001b[36madd_transfer_time\u001b[0m:\u001b[36m222\u001b[0m - \u001b[34m\u001b[1m450 transferable stops added\u001b[0m\n\u001b[32m2024-07-02 12:19:25.220\u001b[0m | \u001b[1mINFO    \u001b[0m | \u001b[36mpyraptor.model.mcraptor\u001b[0m:\u001b[36mrun\u001b[0m:\u001b[36m81\u001b[0m - \u001b[1mFinish round-based algorithm to create bag with best labels\u001b[0m\n\u001b[32m2024-07-02 12:19:25.221\u001b[0m | \u001b[1mINFO    \u001b[0m | \u001b[36mpyraptor.model.mcraptor\u001b[0m:\u001b[36mrun\u001b[0m:\u001b[36m82\u001b[0m - \u001b[1mRunning time: 0.24577224999666214\u001b[0m\n\u001b[32m2024-07-02 12:19:25.339\u001b[0m | \u001b[1mINFO    \u001b[0m | \u001b[36mpyraptor.query_range_mcraptor\u001b[0m:\u001b[36mrun_range_mcraptor\u001b[0m:\u001b[36m174\u001b[0m - \u001b[1mJourney calculation time: 0.3683135419851169\u001b[0m\n",
     "name": "stderr"
    }
   ]
  },
  {
   "metadata": {
    "trusted": true
   },
   "cell_type": "code",
   "source": "for jrny in journeys_to_destinations[destination_station][::-1]:\n    #print(f\"{jrny.from_stop().name} {sec2str(jrny.dep())}\")\n    #print(f\"{jrny.to_stop().name} {sec2str(jrny.arr())}\")\n    print(f\"Trip Time: {sec2str(jrny.arr() - jrny.dep())}\")\n    for j in jrny.to_list():\n        print(f\"\"\"\n{sec2str(j['departure_time'])} | {j['from_stop']}\n[{j['route_id'][:-4]}] {j['trip_headsign']}\n{sec2str(j['arrival_time'])} | {j['to_stop']}\"\"\")\n        \n    print('========================================')",
   "execution_count": 15,
   "outputs": [
    {
     "output_type": "stream",
     "text": "Trip Time: 01:33\n\n09:14 | Telegraph Bay Rd at Arbutus Rd\n[11] UVic - via Uplands\n09:15 | Arbutus Rd at Sherwood Rd\n\n09:32 | Arbutus Rd at Sherwood Rd\n[11] Tillicum Ctr - via Gorge\n10:06 | Gorge Rd E at Washington Ave\n\n10:36 | Gorge Rd E at Washington Ave\n[8] Oak Bay - via Finlayson\n10:47 | North Dairy Rd at Keats St\n========================================\n",
     "name": "stdout"
    }
   ]
  }
 ],
 "metadata": {
  "kernelspec": {
   "name": "python3",
   "display_name": "Python 3",
   "language": "python"
  },
  "language_info": {
   "name": "python",
   "version": "3.10.4",
   "mimetype": "text/x-python",
   "codemirror_mode": {
    "name": "ipython",
    "version": 3
   },
   "pygments_lexer": "ipython3",
   "nbconvert_exporter": "python",
   "file_extension": ".py"
  }
 },
 "nbformat": 4,
 "nbformat_minor": 2
}